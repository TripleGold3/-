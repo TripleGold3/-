{
  "cells": [
    {
      "cell_type": "code",
      "execution_count": 1,
      "metadata": {
        "colab": {
          "base_uri": "https://localhost:8080/"
        },
        "id": "-dG-e3kyzjsc",
        "outputId": "52dc0e14-d9f1-4435-e591-9701daa7f176"
      },
      "outputs": [
        {
          "name": "stdout",
          "output_type": "stream",
          "text": [
            "Sun May  7 21:03:13 2023       \n",
            "+---------------------------------------------------------------------------------------+\n",
            "| NVIDIA-SMI 531.14                 Driver Version: 531.14       CUDA Version: 12.1     |\n",
            "|-----------------------------------------+----------------------+----------------------+\n",
            "| GPU  Name                      TCC/WDDM | Bus-Id        Disp.A | Volatile Uncorr. ECC |\n",
            "| Fan  Temp  Perf            Pwr:Usage/Cap|         Memory-Usage | GPU-Util  Compute M. |\n",
            "|                                         |                      |               MIG M. |\n",
            "|=========================================+======================+======================|\n",
            "|   0  NVIDIA GeForce RTX 4060 L...  WDDM | 00000000:01:00.0  On |                  N/A |\n",
            "| N/A   50C    P3               16W /  N/A|   3191MiB /  8188MiB |     40%      Default |\n",
            "|                                         |                      |                  N/A |\n",
            "+-----------------------------------------+----------------------+----------------------+\n",
            "                                                                                         \n",
            "+---------------------------------------------------------------------------------------+\n",
            "| Processes:                                                                            |\n",
            "|  GPU   GI   CI        PID   Type   Process name                            GPU Memory |\n",
            "|        ID   ID                                                             Usage      |\n",
            "|=======================================================================================|\n",
            "|    0   N/A  N/A      1736    C+G   ...GeForce Experience\\NVIDIA Share.exe    N/A      |\n",
            "|    0   N/A  N/A      1920    C+G   ...t.LockApp_cw5n1h2txyewy\\LockApp.exe    N/A      |\n",
            "|    0   N/A  N/A      2960    C+G   ...5n1h2txyewy\\ShellExperienceHost.exe    N/A      |\n",
            "|    0   N/A  N/A      3888    C+G   ...les\\Microsoft OneDrive\\OneDrive.exe    N/A      |\n",
            "|    0   N/A  N/A      6912    C+G   ...nt.CBS_cw5n1h2txyewy\\SearchHost.exe    N/A      |\n",
            "|    0   N/A  N/A      8328    C+G   ...siveControlPanel\\SystemSettings.exe    N/A      |\n",
            "|    0   N/A  N/A      9668    C+G   D:\\Microsoft VS Code\\Code.exe             N/A      |\n",
            "|    0   N/A  N/A     14632    C+G   ...on\\112.0.1722.68\\msedgewebview2.exe    N/A      |\n",
            "|    0   N/A  N/A     19008    C+G   ...2txyewy\\StartMenuExperienceHost.exe    N/A      |\n",
            "|    0   N/A  N/A     19496    C+G   C:\\Windows\\explorer.exe                   N/A      |\n",
            "|    0   N/A  N/A     20592    C+G   ...tionsPlus\\logioptionsplus_agent.exe    N/A      |\n",
            "|    0   N/A  N/A     20596    C+G   ...crosoft\\Edge\\Application\\msedge.exe    N/A      |\n",
            "|    0   N/A  N/A     21228    C+G   ...CBS_cw5n1h2txyewy\\TextInputHost.exe    N/A      |\n",
            "|    0   N/A  N/A     21256    C+G   ...am Files\\Logi\\LogiBolt\\LogiBolt.exe    N/A      |\n",
            "|    0   N/A  N/A     24088    C+G   ...9\\extracted\\runtime\\WeChatAppEx.exe    N/A      |\n",
            "|    0   N/A  N/A     24280    C+G   ...GeForce Experience\\NVIDIA Share.exe    N/A      |\n",
            "|    0   N/A  N/A     27452      C   D:\\Anaconda\\envs\\unidl\\python.exe         N/A      |\n",
            "+---------------------------------------------------------------------------------------+\n"
          ]
        }
      ],
      "source": [
        "!nvidia-smi"
      ]
    },
    {
      "cell_type": "code",
      "execution_count": 2,
      "metadata": {
        "colab": {
          "base_uri": "https://localhost:8080/"
        },
        "id": "tBGM6vtvQnrt",
        "outputId": "a1283206-70e9-4955-e77c-dbb8c1b7ec99"
      },
      "outputs": [
        {
          "name": "stderr",
          "output_type": "stream",
          "text": [
            "'ls' �����ڲ����ⲿ���Ҳ���ǿ����еĳ���\n",
            "���������ļ���\n",
            "��Ŀ¼���ļ� parm �Ѿ����ڡ�\n"
          ]
        }
      ],
      "source": [
        "!ls\n",
        "!mkdir parm"
      ]
    },
    {
      "cell_type": "code",
      "execution_count": null,
      "metadata": {},
      "outputs": [],
      "source": []
    },
    {
      "cell_type": "code",
      "execution_count": 3,
      "metadata": {
        "id": "SoP1gDjreL7Q"
      },
      "outputs": [],
      "source": [
        "import torch\n",
        "import torchvision\n",
        "import torchvision.transforms as transforms\n",
        "import os"
      ]
    },
    {
      "cell_type": "code",
      "execution_count": 4,
      "metadata": {
        "colab": {
          "base_uri": "https://localhost:8080/"
        },
        "id": "rSmmdMDfkHGm",
        "outputId": "e1f9a6e7-3d66-48ed-d4f1-03d2b8a8d846"
      },
      "outputs": [
        {
          "name": "stdout",
          "output_type": "stream",
          "text": [
            "cuda:0\n"
          ]
        }
      ],
      "source": [
        "device = torch.device('cuda:0' if torch.cuda.is_available() else 'cpu')\n",
        "# device = torch.device('cpu')\n",
        "# Assuming that we are on a CUDA machine, this should print a CUDA device:\n",
        "\n",
        "print(device)"
      ]
    },
    {
      "cell_type": "code",
      "execution_count": 5,
      "metadata": {
        "id": "bo7-Bfv6f53r"
      },
      "outputs": [],
      "source": [
        "batch_size = 64\n",
        "LR = 0.01\n",
        "num_epochs = 80\n",
        "dropout = 0.5\n"
      ]
    },
    {
      "cell_type": "code",
      "execution_count": 6,
      "metadata": {},
      "outputs": [
        {
          "name": "stdout",
          "output_type": "stream",
          "text": [
            "['e:\\\\Desktop\\\\study\\\\deep_learning\\\\BatchNormlization\\\\CudaExtension\\\\cifar10_verification', 'd:\\\\Anaconda\\\\envs\\\\unidl\\\\python39.zip', 'd:\\\\Anaconda\\\\envs\\\\unidl\\\\DLLs', 'd:\\\\Anaconda\\\\envs\\\\unidl\\\\lib', 'd:\\\\Anaconda\\\\envs\\\\unidl', '', 'd:\\\\Anaconda\\\\envs\\\\unidl\\\\lib\\\\site-packages', 'd:\\\\Anaconda\\\\envs\\\\unidl\\\\lib\\\\site-packages\\\\mybatchnorm1d_cpp-0.0.0-py3.9-win-amd64.egg', 'd:\\\\Anaconda\\\\envs\\\\unidl\\\\lib\\\\site-packages\\\\mybatchnorm2d_cpp-0.0.0-py3.9-win-amd64.egg', 'd:\\\\Anaconda\\\\envs\\\\unidl\\\\lib\\\\site-packages\\\\mybatchnorm1d_cuda-0.0.0-py3.9-win-amd64.egg', 'd:\\\\Anaconda\\\\envs\\\\unidl\\\\lib\\\\site-packages\\\\mybatchnorm2d_cuda-0.0.0-py3.9-win-amd64.egg', 'd:\\\\Anaconda\\\\envs\\\\unidl\\\\lib\\\\site-packages\\\\win32', 'd:\\\\Anaconda\\\\envs\\\\unidl\\\\lib\\\\site-packages\\\\win32\\\\lib', 'd:\\\\Anaconda\\\\envs\\\\unidl\\\\lib\\\\site-packages\\\\Pythonwin']\n",
            "['e:\\\\Desktop\\\\study\\\\deep_learning\\\\BatchNormlization\\\\CudaExtension\\\\cifar10_verification', 'd:\\\\Anaconda\\\\envs\\\\unidl\\\\python39.zip', 'd:\\\\Anaconda\\\\envs\\\\unidl\\\\DLLs', 'd:\\\\Anaconda\\\\envs\\\\unidl\\\\lib', 'd:\\\\Anaconda\\\\envs\\\\unidl', '', 'd:\\\\Anaconda\\\\envs\\\\unidl\\\\lib\\\\site-packages', 'd:\\\\Anaconda\\\\envs\\\\unidl\\\\lib\\\\site-packages\\\\mybatchnorm1d_cpp-0.0.0-py3.9-win-amd64.egg', 'd:\\\\Anaconda\\\\envs\\\\unidl\\\\lib\\\\site-packages\\\\mybatchnorm2d_cpp-0.0.0-py3.9-win-amd64.egg', 'd:\\\\Anaconda\\\\envs\\\\unidl\\\\lib\\\\site-packages\\\\mybatchnorm1d_cuda-0.0.0-py3.9-win-amd64.egg', 'd:\\\\Anaconda\\\\envs\\\\unidl\\\\lib\\\\site-packages\\\\mybatchnorm2d_cuda-0.0.0-py3.9-win-amd64.egg', 'd:\\\\Anaconda\\\\envs\\\\unidl\\\\lib\\\\site-packages\\\\win32', 'd:\\\\Anaconda\\\\envs\\\\unidl\\\\lib\\\\site-packages\\\\win32\\\\lib', 'd:\\\\Anaconda\\\\envs\\\\unidl\\\\lib\\\\site-packages\\\\Pythonwin', 'e:\\\\Desktop\\\\study\\\\deep_learning\\\\BatchNormlization\\\\CudaExtension\\\\cifar10_verification\\\\..']\n"
          ]
        }
      ],
      "source": [
        "import sys \n",
        "print(sys.path)\n",
        "sys.path.append(os.getcwd() + '\\\\..')\n",
        "print(sys.path)"
      ]
    },
    {
      "cell_type": "code",
      "execution_count": 7,
      "metadata": {
        "colab": {
          "base_uri": "https://localhost:8080/"
        },
        "id": "qvK2e4SKrb_m",
        "outputId": "c8817bfd-f36c-4e84-88f5-e3b1147ed0c6"
      },
      "outputs": [
        {
          "data": {
            "text/plain": [
              "Net_use_MyBn_cuda(\n",
              "  (features): Sequential(\n",
              "    (0): Conv2d(3, 64, kernel_size=(3, 3), stride=(1, 1), padding=(1, 1))\n",
              "    (1): MyBatchNormalization2d_cuda()\n",
              "    (2): ReLU(inplace=True)\n",
              "    (3): MaxPool2d(kernel_size=2, stride=2, padding=0, dilation=1, ceil_mode=False)\n",
              "    (4): Conv2d(64, 128, kernel_size=(3, 3), stride=(1, 1), padding=(1, 1))\n",
              "    (5): MyBatchNormalization2d_cuda()\n",
              "    (6): ReLU(inplace=True)\n",
              "    (7): MaxPool2d(kernel_size=2, stride=2, padding=0, dilation=1, ceil_mode=False)\n",
              "    (8): Conv2d(128, 256, kernel_size=(3, 3), stride=(1, 1), padding=(1, 1))\n",
              "    (9): MyBatchNormalization2d_cuda()\n",
              "    (10): ReLU(inplace=True)\n",
              "    (11): MaxPool2d(kernel_size=2, stride=2, padding=0, dilation=1, ceil_mode=False)\n",
              "    (12): Conv2d(256, 512, kernel_size=(3, 3), stride=(1, 1), padding=(1, 1))\n",
              "    (13): MyBatchNormalization2d_cuda()\n",
              "    (14): ReLU(inplace=True)\n",
              "    (15): MaxPool2d(kernel_size=2, stride=2, padding=0, dilation=1, ceil_mode=False)\n",
              "    (16): Conv2d(512, 1024, kernel_size=(3, 3), stride=(1, 1), padding=(1, 1))\n",
              "    (17): MyBatchNormalization2d_cuda()\n",
              "    (18): ReLU(inplace=True)\n",
              "    (19): MaxPool2d(kernel_size=2, stride=2, padding=0, dilation=1, ceil_mode=False)\n",
              "  )\n",
              "  (classifier): Sequential(\n",
              "    (0): Dropout(p=0.5, inplace=False)\n",
              "    (1): Linear(in_features=1024, out_features=512, bias=True)\n",
              "    (2): MyBatchNormalization1d_cuda()\n",
              "    (3): ReLU(inplace=True)\n",
              "    (4): Linear(in_features=512, out_features=256, bias=True)\n",
              "    (5): MyBatchNormalization1d_cuda()\n",
              "    (6): ReLU(inplace=True)\n",
              "    (7): Dropout(p=0.5, inplace=False)\n",
              "    (8): Linear(in_features=256, out_features=10, bias=True)\n",
              "  )\n",
              ")"
            ]
          },
          "execution_count": 7,
          "metadata": {},
          "output_type": "execute_result"
        }
      ],
      "source": [
        "from MyBatchNormalization1D_cuda import MyBatchNormalization1d_cuda\n",
        "from MyBatchNormalization2D_cuda import MyBatchNormalization2d_cuda\n",
        "import torch.nn as nn\n",
        "class Net_use_MyBn_cuda(nn.Module):\n",
        "    def __init__(self):\n",
        "        super().__init__()\n",
        "        self.features = nn.Sequential(\n",
        "            #conv1 1/2\n",
        "            nn.Conv2d(in_channels=3    , out_channels=64   , kernel_size=3,  padding = 1),\n",
        "            MyBatchNormalization2d_cuda(num_features=64),\n",
        "            nn.ReLU(inplace=True),\n",
        "            nn.MaxPool2d(kernel_size=2, stride=2),\n",
        "            \n",
        "            #conv2 1/4 \n",
        "            nn.Conv2d(in_channels=64   , out_channels=128, kernel_size=3,  padding = 1),\n",
        "            MyBatchNormalization2d_cuda(num_features=128),\n",
        "            nn.ReLU(inplace=True),\n",
        "            nn.MaxPool2d(kernel_size=2, stride=2),\n",
        "\n",
        "            #conv3 1/8 \n",
        "            nn.Conv2d(in_channels=128, out_channels=256, kernel_size=3,  padding = 1),\n",
        "            MyBatchNormalization2d_cuda(num_features=256),\n",
        "            nn.ReLU(inplace=True),\n",
        "            nn.MaxPool2d(kernel_size=2, stride=2),\n",
        "\n",
        "            #conv4 1/16 \n",
        "            nn.Conv2d(in_channels=256, out_channels=512, kernel_size=3,  padding = 1),\n",
        "            MyBatchNormalization2d_cuda(num_features=512),\n",
        "            nn.ReLU(inplace=True),\n",
        "            nn.MaxPool2d(kernel_size=2, stride=2),\n",
        "            \n",
        "             #conv5 1/32 \n",
        "            nn.Conv2d(in_channels=512, out_channels=1024, kernel_size=3,  padding = 1),\n",
        "            MyBatchNormalization2d_cuda(num_features=1024),\n",
        "            nn.ReLU(inplace=True),\n",
        "            nn.MaxPool2d(kernel_size=2, stride=2),    \n",
        "        )\n",
        "    \n",
        "        self.classifier = nn.Sequential(  # 定义自己的分类层\n",
        "            nn.Dropout(),\n",
        "            nn.Linear(in_features=1024, out_features=512), \n",
        "            MyBatchNormalization1d_cuda(512),\n",
        "            nn.ReLU(True),\n",
        "            nn.Linear(in_features=512, out_features=256),\n",
        "            MyBatchNormalization1d_cuda(256),\n",
        "            nn.ReLU(True),\n",
        "            nn.Dropout(),\n",
        "            nn.Linear(in_features=256, out_features=10),\n",
        "        )\n",
        "    \n",
        "\n",
        "    def forward(self, x):\n",
        "        x = self.features(x)\n",
        "        x = x.view(x.size(0), -1)\n",
        "        x = self.classifier(x)\n",
        "\n",
        "        return x\n",
        "\n",
        "net3 = Net_use_MyBn_cuda()\n",
        "net3.to(device)"
      ]
    },
    {
      "cell_type": "code",
      "execution_count": 8,
      "metadata": {
        "colab": {
          "base_uri": "https://localhost:8080/"
        },
        "id": "HCKYXwEks349",
        "outputId": "7d405dea-af0f-4704-e2dd-6dc847d6fe75"
      },
      "outputs": [
        {
          "name": "stdout",
          "output_type": "stream",
          "text": [
            "Files already downloaded and verified\n",
            "Files already downloaded and verified\n",
            "50000 10000\n",
            "MyBN:\n",
            "Batch_Size = 64, Learning_Rate = 0.01, Train_Epochs = 80\n",
            "Epoch: 1/80\n",
            "\t Training: Loss: 1.5640, Accuracy: 41.8340%, \n",
            "\t Validation: Loss: 1.1639, Accuracy: 58.1100%, Time: 20.403s\n",
            "\t Best Accuracy for validation : 0.5811 at epoch 001\n",
            "Epoch: 2/80\n",
            "\t Training: Loss: 1.2077, Accuracy: 56.6320%, \n",
            "\t Validation: Loss: 0.9058, Accuracy: 67.4400%, Time: 18.041s\n",
            "\t Best Accuracy for validation : 0.6744 at epoch 002\n",
            "Epoch: 3/80\n"
          ]
        },
        {
          "ename": "KeyboardInterrupt",
          "evalue": "",
          "output_type": "error",
          "traceback": [
            "\u001b[1;31m---------------------------------------------------------------------------\u001b[0m",
            "\u001b[1;31mKeyboardInterrupt\u001b[0m                         Traceback (most recent call last)",
            "Cell \u001b[1;32mIn[8], line 137\u001b[0m\n\u001b[0;32m    134\u001b[0m \u001b[39mprint\u001b[39m(\u001b[39m'\u001b[39m\u001b[39mBatch_Size = \u001b[39m\u001b[39m'\u001b[39m \u001b[39m+\u001b[39m \u001b[39mstr\u001b[39m(batch_size) \u001b[39m+\u001b[39m \u001b[39m'\u001b[39m\u001b[39m, Learning_Rate = \u001b[39m\u001b[39m'\u001b[39m \u001b[39m+\u001b[39m \u001b[39mstr\u001b[39m(LR) \u001b[39m+\u001b[39m \u001b[39m'\u001b[39m\u001b[39m, Train_Epochs = \u001b[39m\u001b[39m'\u001b[39m \u001b[39m+\u001b[39m \u001b[39mstr\u001b[39m(num_epochs))\n\u001b[0;32m    135\u001b[0m net3\u001b[39m.\u001b[39mto(device)\n\u001b[1;32m--> 137\u001b[0m net3, history \u001b[39m=\u001b[39m train_and_valid_MyBN(model\u001b[39m=\u001b[39;49mnet3, loss_function\u001b[39m=\u001b[39;49mloss_func, optimizer\u001b[39m=\u001b[39;49moptimizer, epochs\u001b[39m=\u001b[39;49mnum_epochs )\n",
            "Cell \u001b[1;32mIn[8], line 51\u001b[0m, in \u001b[0;36mtrain_and_valid_MyBN\u001b[1;34m(model, loss_function, optimizer, epochs)\u001b[0m\n\u001b[0;32m     48\u001b[0m \u001b[39mwith\u001b[39;00m torch\u001b[39m.\u001b[39mno_grad():\n\u001b[0;32m     49\u001b[0m     model\u001b[39m.\u001b[39meval()\n\u001b[1;32m---> 51\u001b[0m     \u001b[39mfor\u001b[39;00m j, (inputs, labels) \u001b[39min\u001b[39;00m \u001b[39menumerate\u001b[39m(valid_data):\n\u001b[0;32m     52\u001b[0m         inputs \u001b[39m=\u001b[39m inputs\u001b[39m.\u001b[39mto(device)\n\u001b[0;32m     53\u001b[0m         labels \u001b[39m=\u001b[39m labels\u001b[39m.\u001b[39mto(device)\n",
            "File \u001b[1;32md:\\Anaconda\\envs\\unidl\\lib\\site-packages\\torch\\utils\\data\\dataloader.py:634\u001b[0m, in \u001b[0;36m_BaseDataLoaderIter.__next__\u001b[1;34m(self)\u001b[0m\n\u001b[0;32m    631\u001b[0m \u001b[39mif\u001b[39;00m \u001b[39mself\u001b[39m\u001b[39m.\u001b[39m_sampler_iter \u001b[39mis\u001b[39;00m \u001b[39mNone\u001b[39;00m:\n\u001b[0;32m    632\u001b[0m     \u001b[39m# TODO(https://github.com/pytorch/pytorch/issues/76750)\u001b[39;00m\n\u001b[0;32m    633\u001b[0m     \u001b[39mself\u001b[39m\u001b[39m.\u001b[39m_reset()  \u001b[39m# type: ignore[call-arg]\u001b[39;00m\n\u001b[1;32m--> 634\u001b[0m data \u001b[39m=\u001b[39m \u001b[39mself\u001b[39;49m\u001b[39m.\u001b[39;49m_next_data()\n\u001b[0;32m    635\u001b[0m \u001b[39mself\u001b[39m\u001b[39m.\u001b[39m_num_yielded \u001b[39m+\u001b[39m\u001b[39m=\u001b[39m \u001b[39m1\u001b[39m\n\u001b[0;32m    636\u001b[0m \u001b[39mif\u001b[39;00m \u001b[39mself\u001b[39m\u001b[39m.\u001b[39m_dataset_kind \u001b[39m==\u001b[39m _DatasetKind\u001b[39m.\u001b[39mIterable \u001b[39mand\u001b[39;00m \\\n\u001b[0;32m    637\u001b[0m         \u001b[39mself\u001b[39m\u001b[39m.\u001b[39m_IterableDataset_len_called \u001b[39mis\u001b[39;00m \u001b[39mnot\u001b[39;00m \u001b[39mNone\u001b[39;00m \u001b[39mand\u001b[39;00m \\\n\u001b[0;32m    638\u001b[0m         \u001b[39mself\u001b[39m\u001b[39m.\u001b[39m_num_yielded \u001b[39m>\u001b[39m \u001b[39mself\u001b[39m\u001b[39m.\u001b[39m_IterableDataset_len_called:\n",
            "File \u001b[1;32md:\\Anaconda\\envs\\unidl\\lib\\site-packages\\torch\\utils\\data\\dataloader.py:678\u001b[0m, in \u001b[0;36m_SingleProcessDataLoaderIter._next_data\u001b[1;34m(self)\u001b[0m\n\u001b[0;32m    676\u001b[0m \u001b[39mdef\u001b[39;00m \u001b[39m_next_data\u001b[39m(\u001b[39mself\u001b[39m):\n\u001b[0;32m    677\u001b[0m     index \u001b[39m=\u001b[39m \u001b[39mself\u001b[39m\u001b[39m.\u001b[39m_next_index()  \u001b[39m# may raise StopIteration\u001b[39;00m\n\u001b[1;32m--> 678\u001b[0m     data \u001b[39m=\u001b[39m \u001b[39mself\u001b[39;49m\u001b[39m.\u001b[39;49m_dataset_fetcher\u001b[39m.\u001b[39;49mfetch(index)  \u001b[39m# may raise StopIteration\u001b[39;00m\n\u001b[0;32m    679\u001b[0m     \u001b[39mif\u001b[39;00m \u001b[39mself\u001b[39m\u001b[39m.\u001b[39m_pin_memory:\n\u001b[0;32m    680\u001b[0m         data \u001b[39m=\u001b[39m _utils\u001b[39m.\u001b[39mpin_memory\u001b[39m.\u001b[39mpin_memory(data, \u001b[39mself\u001b[39m\u001b[39m.\u001b[39m_pin_memory_device)\n",
            "File \u001b[1;32md:\\Anaconda\\envs\\unidl\\lib\\site-packages\\torch\\utils\\data\\_utils\\fetch.py:51\u001b[0m, in \u001b[0;36m_MapDatasetFetcher.fetch\u001b[1;34m(self, possibly_batched_index)\u001b[0m\n\u001b[0;32m     49\u001b[0m         data \u001b[39m=\u001b[39m \u001b[39mself\u001b[39m\u001b[39m.\u001b[39mdataset\u001b[39m.\u001b[39m__getitems__(possibly_batched_index)\n\u001b[0;32m     50\u001b[0m     \u001b[39melse\u001b[39;00m:\n\u001b[1;32m---> 51\u001b[0m         data \u001b[39m=\u001b[39m [\u001b[39mself\u001b[39m\u001b[39m.\u001b[39mdataset[idx] \u001b[39mfor\u001b[39;00m idx \u001b[39min\u001b[39;00m possibly_batched_index]\n\u001b[0;32m     52\u001b[0m \u001b[39melse\u001b[39;00m:\n\u001b[0;32m     53\u001b[0m     data \u001b[39m=\u001b[39m \u001b[39mself\u001b[39m\u001b[39m.\u001b[39mdataset[possibly_batched_index]\n",
            "File \u001b[1;32md:\\Anaconda\\envs\\unidl\\lib\\site-packages\\torch\\utils\\data\\_utils\\fetch.py:51\u001b[0m, in \u001b[0;36m<listcomp>\u001b[1;34m(.0)\u001b[0m\n\u001b[0;32m     49\u001b[0m         data \u001b[39m=\u001b[39m \u001b[39mself\u001b[39m\u001b[39m.\u001b[39mdataset\u001b[39m.\u001b[39m__getitems__(possibly_batched_index)\n\u001b[0;32m     50\u001b[0m     \u001b[39melse\u001b[39;00m:\n\u001b[1;32m---> 51\u001b[0m         data \u001b[39m=\u001b[39m [\u001b[39mself\u001b[39;49m\u001b[39m.\u001b[39;49mdataset[idx] \u001b[39mfor\u001b[39;00m idx \u001b[39min\u001b[39;00m possibly_batched_index]\n\u001b[0;32m     52\u001b[0m \u001b[39melse\u001b[39;00m:\n\u001b[0;32m     53\u001b[0m     data \u001b[39m=\u001b[39m \u001b[39mself\u001b[39m\u001b[39m.\u001b[39mdataset[possibly_batched_index]\n",
            "File \u001b[1;32md:\\Anaconda\\envs\\unidl\\lib\\site-packages\\torchvision\\datasets\\cifar.py:118\u001b[0m, in \u001b[0;36mCIFAR10.__getitem__\u001b[1;34m(self, index)\u001b[0m\n\u001b[0;32m    115\u001b[0m img \u001b[39m=\u001b[39m Image\u001b[39m.\u001b[39mfromarray(img)\n\u001b[0;32m    117\u001b[0m \u001b[39mif\u001b[39;00m \u001b[39mself\u001b[39m\u001b[39m.\u001b[39mtransform \u001b[39mis\u001b[39;00m \u001b[39mnot\u001b[39;00m \u001b[39mNone\u001b[39;00m:\n\u001b[1;32m--> 118\u001b[0m     img \u001b[39m=\u001b[39m \u001b[39mself\u001b[39;49m\u001b[39m.\u001b[39;49mtransform(img)\n\u001b[0;32m    120\u001b[0m \u001b[39mif\u001b[39;00m \u001b[39mself\u001b[39m\u001b[39m.\u001b[39mtarget_transform \u001b[39mis\u001b[39;00m \u001b[39mnot\u001b[39;00m \u001b[39mNone\u001b[39;00m:\n\u001b[0;32m    121\u001b[0m     target \u001b[39m=\u001b[39m \u001b[39mself\u001b[39m\u001b[39m.\u001b[39mtarget_transform(target)\n",
            "File \u001b[1;32md:\\Anaconda\\envs\\unidl\\lib\\site-packages\\torchvision\\transforms\\transforms.py:95\u001b[0m, in \u001b[0;36mCompose.__call__\u001b[1;34m(self, img)\u001b[0m\n\u001b[0;32m     93\u001b[0m \u001b[39mdef\u001b[39;00m \u001b[39m__call__\u001b[39m(\u001b[39mself\u001b[39m, img):\n\u001b[0;32m     94\u001b[0m     \u001b[39mfor\u001b[39;00m t \u001b[39min\u001b[39;00m \u001b[39mself\u001b[39m\u001b[39m.\u001b[39mtransforms:\n\u001b[1;32m---> 95\u001b[0m         img \u001b[39m=\u001b[39m t(img)\n\u001b[0;32m     96\u001b[0m     \u001b[39mreturn\u001b[39;00m img\n",
            "File \u001b[1;32md:\\Anaconda\\envs\\unidl\\lib\\site-packages\\torchvision\\transforms\\transforms.py:137\u001b[0m, in \u001b[0;36mToTensor.__call__\u001b[1;34m(self, pic)\u001b[0m\n\u001b[0;32m    129\u001b[0m \u001b[39mdef\u001b[39;00m \u001b[39m__call__\u001b[39m(\u001b[39mself\u001b[39m, pic):\n\u001b[0;32m    130\u001b[0m     \u001b[39m\"\"\"\u001b[39;00m\n\u001b[0;32m    131\u001b[0m \u001b[39m    Args:\u001b[39;00m\n\u001b[0;32m    132\u001b[0m \u001b[39m        pic (PIL Image or numpy.ndarray): Image to be converted to tensor.\u001b[39;00m\n\u001b[1;32m   (...)\u001b[0m\n\u001b[0;32m    135\u001b[0m \u001b[39m        Tensor: Converted image.\u001b[39;00m\n\u001b[0;32m    136\u001b[0m \u001b[39m    \"\"\"\u001b[39;00m\n\u001b[1;32m--> 137\u001b[0m     \u001b[39mreturn\u001b[39;00m F\u001b[39m.\u001b[39;49mto_tensor(pic)\n",
            "File \u001b[1;32md:\\Anaconda\\envs\\unidl\\lib\\site-packages\\torchvision\\transforms\\functional.py:172\u001b[0m, in \u001b[0;36mto_tensor\u001b[1;34m(pic)\u001b[0m\n\u001b[0;32m    170\u001b[0m img \u001b[39m=\u001b[39m img\u001b[39m.\u001b[39mview(pic\u001b[39m.\u001b[39msize[\u001b[39m1\u001b[39m], pic\u001b[39m.\u001b[39msize[\u001b[39m0\u001b[39m], F_pil\u001b[39m.\u001b[39mget_image_num_channels(pic))\n\u001b[0;32m    171\u001b[0m \u001b[39m# put it from HWC to CHW format\u001b[39;00m\n\u001b[1;32m--> 172\u001b[0m img \u001b[39m=\u001b[39m img\u001b[39m.\u001b[39;49mpermute((\u001b[39m2\u001b[39;49m, \u001b[39m0\u001b[39;49m, \u001b[39m1\u001b[39;49m))\u001b[39m.\u001b[39mcontiguous()\n\u001b[0;32m    173\u001b[0m \u001b[39mif\u001b[39;00m \u001b[39misinstance\u001b[39m(img, torch\u001b[39m.\u001b[39mByteTensor):\n\u001b[0;32m    174\u001b[0m     \u001b[39mreturn\u001b[39;00m img\u001b[39m.\u001b[39mto(dtype\u001b[39m=\u001b[39mdefault_float_dtype)\u001b[39m.\u001b[39mdiv(\u001b[39m255\u001b[39m)\n",
            "\u001b[1;31mKeyboardInterrupt\u001b[0m: "
          ]
        }
      ],
      "source": [
        "import torch.optim as optim\n",
        "import torch.nn as nn\n",
        "import time\n",
        "from torchvision import datasets, transforms\n",
        "from torch.utils.data import DataLoader\n",
        "\n",
        "def train_and_valid_MyBN(model, loss_function, optimizer, epochs):\n",
        "    model.to(device)\n",
        "    history = []\n",
        "    best_acc = 0.0\n",
        "    best_epoch = 0\n",
        "\n",
        "    for epoch in range(epochs):\n",
        "        epoch_start = time.time()\n",
        "        print(\"Epoch: {}/{}\".format(epoch + 1, epochs))\n",
        "\n",
        "        model.train()\n",
        "\n",
        "        train_loss = 0.0\n",
        "        train_acc = 0.0\n",
        "        valid_loss = 0.0\n",
        "        valid_acc = 0.0\n",
        "\n",
        "        for i, (inputs, labels) in enumerate(train_data):\n",
        "            inputs = inputs.to(device)\n",
        "            labels = labels.to(device)\n",
        "\n",
        "            # 因为这里梯度是累加的，所以每次记得清零\n",
        "            optimizer.zero_grad()\n",
        "\n",
        "            outputs = model(inputs)\n",
        "\n",
        "            loss = loss_function(outputs, labels)\n",
        "\n",
        "            loss.backward(retain_graph=True)\n",
        "\n",
        "            optimizer.step()\n",
        "\n",
        "            train_loss += loss.item() * inputs.size(0)\n",
        "\n",
        "            ret, predictions = torch.max(outputs.data, 1)\n",
        "            correct_counts = predictions.eq(labels.data.view_as(predictions))\n",
        "\n",
        "            acc = torch.mean(correct_counts.type(torch.FloatTensor))\n",
        "\n",
        "            train_acc += acc.item() * inputs.size(0)\n",
        "\n",
        "        with torch.no_grad():\n",
        "            model.eval()\n",
        "\n",
        "            for j, (inputs, labels) in enumerate(valid_data):\n",
        "                inputs = inputs.to(device)\n",
        "                labels = labels.to(device)\n",
        "\n",
        "                outputs = model(inputs)\n",
        "\n",
        "                loss = loss_function(outputs, labels)\n",
        "\n",
        "                valid_loss += loss.item() * inputs.size(0)\n",
        "\n",
        "                ret, predictions = torch.max(outputs.data, 1)\n",
        "                correct_counts = predictions.eq(labels.data.view_as(predictions))\n",
        "\n",
        "                acc = torch.mean(correct_counts.type(torch.FloatTensor))\n",
        "\n",
        "                valid_acc += acc.item() * inputs.size(0)\n",
        "      \n",
        "\n",
        "        avg_train_loss = train_loss / train_data_size\n",
        "        avg_train_acc = train_acc / train_data_size\n",
        "\n",
        "        avg_valid_loss = valid_loss / valid_data_size\n",
        "        avg_valid_acc = valid_acc / valid_data_size\n",
        "\n",
        "        history.append([avg_train_loss, avg_valid_loss, avg_train_acc, avg_valid_acc])\n",
        "\n",
        "        if best_acc < avg_valid_acc:\n",
        "            best_acc = avg_valid_acc\n",
        "            best_epoch = epoch + 1\n",
        "\n",
        "        epoch_end = time.time()\n",
        "\n",
        "        print(\n",
        "            \"\\t Training: Loss: {:.4f}, Accuracy: {:.4f}%, \"\n",
        "            \"\\n\\t Validation: Loss: {:.4f}, Accuracy: {:.4f}%, Time: {:.3f}s\".format(\n",
        "                avg_train_loss, avg_train_acc * 100, avg_valid_loss, avg_valid_acc * 100,\n",
        "                                epoch_end - epoch_start\n",
        "            ))\n",
        "        print(\"\\t Best Accuracy for validation : {:.4f} at epoch {:03d}\".format(best_acc, best_epoch))\n",
        "        \n",
        "        dir_path = os.path.join(os.getcwd(), ('parm/torchBN_batchsize_' + str(batch_size) + '_LR_' + str(LR) ) )\n",
        "        if not os.path.exists(dir_path):\n",
        "            os.mkdir(dir_path)\n",
        "        model_path = dir_path + '/%02d' % (epoch + 1) + '.pt'\n",
        "        torch.save(model, model_path)  # 保存模型\n",
        "    \n",
        "    print('Finished Training')\n",
        "\n",
        "    return model, history\n",
        "\n",
        "loss_func = nn.CrossEntropyLoss()\n",
        "optimizer = optim.SGD(net3.parameters(), lr= LR, momentum=0.9)\n",
        "\n",
        "\n",
        "all_start = time.time()\n",
        "\n",
        "norm_mean = [0.485, 0.456, 0.406]  # 均值\n",
        "norm_std = [0.229, 0.224, 0.225]  # 方差\n",
        "transform_train = transforms.Compose([transforms.ToTensor(),  # 将PILImage转换为张量\n",
        "                                      # 将[0,1]归一化到[-1,1]\n",
        "                                      transforms.Normalize(norm_mean, norm_std),\n",
        "                                      transforms.RandomHorizontalFlip(),  # 随机水平镜像\n",
        "                                      transforms.RandomErasing(scale=(0.04, 0.2), ratio=(0.5, 2)),  # 随机遮挡\n",
        "                                      transforms.RandomCrop(32, padding=4)  # 随机中心裁剪\n",
        "                                      ])\n",
        "\n",
        "transform_test = transforms.Compose([transforms.ToTensor(),\n",
        "                                     transforms.Normalize(norm_mean, norm_std)])\n",
        "  # \n",
        "\n",
        "# 选择数据集:\n",
        "trainset = datasets.CIFAR10(root='./data', train=True, download=True, transform=transform_train)\n",
        "testset = datasets.CIFAR10(root='./data', train=False, download=True, transform=transform_test)\n",
        "# 加载数据:\n",
        "train_data = DataLoader(dataset=trainset, batch_size=batch_size, shuffle=True)\n",
        "valid_data = DataLoader(dataset=testset, batch_size=batch_size, shuffle=False)\n",
        "cifar10_classes = ('plane', 'car', 'bird', 'cat', 'deer', 'dog', 'frog', 'horse', 'ship', 'truck')\n",
        "\n",
        "train_data_size = len(trainset)\n",
        "valid_data_size = len(testset)\n",
        "print(train_data_size, valid_data_size)\n",
        "\n",
        "print(\"MyBN:\")\n",
        "print('Batch_Size = ' + str(batch_size) + ', Learning_Rate = ' + str(LR) + ', Train_Epochs = ' + str(num_epochs))\n",
        "net3.to(device)\n",
        "\n",
        "net3, history = train_and_valid_MyBN(model=net3, loss_function=loss_func, optimizer=optimizer, epochs=num_epochs )"
      ]
    },
    {
      "cell_type": "code",
      "execution_count": null,
      "metadata": {
        "colab": {
          "base_uri": "https://localhost:8080/",
          "height": 1000
        },
        "id": "JRA5n8kB5SwQ",
        "outputId": "c87e18ec-d0e4-40ee-f499-5baa2577a974"
      },
      "outputs": [],
      "source": [
        "import numpy as np\n",
        "import matplotlib.pyplot as plt \n",
        "import os, sys\n",
        "result_dir_path = os.path.join(os.getcwd(), ('result/torchBN_MyBN_batchsize_' + str(batch_size) + '_LR_' + str(LR) ) )\n",
        "if not os.path.exists(result_dir_path):\n",
        "    os.mkdir(result_dir_path)\n",
        "history = np.array(history)\n",
        "# Loss曲线\n",
        "plt.figure(figsize=(10, 10))\n",
        "plt.plot(history[:, 0:2])\n",
        "plt.legend(['Tr Loss', 'Val Loss'])\n",
        "plt.xlabel('Epoch Number')\n",
        "plt.ylabel('Loss')\n",
        "# 设置坐标轴刻度\n",
        "plt.xticks(np.arange(0, num_epochs + 1, step=10))\n",
        "plt.yticks(np.arange(0, 2.05, 0.1))\n",
        "plt.grid()  # 画出网格\n",
        "plt.savefig(result_dir_path + '/loss_curve1.png')\n",
        "\n",
        "# 精度曲线\n",
        "plt.figure(figsize=(10, 10))\n",
        "plt.plot(history[:, 2:4])\n",
        "plt.legend(['Train Accuracy', 'Val Accuracy'])\n",
        "plt.xlabel('Epoch Number')\n",
        "plt.ylabel('Accuracy')\n",
        "# 设置坐标轴刻度\n",
        "plt.xticks(np.arange(0, num_epochs + 1, step=10))\n",
        "plt.yticks(np.arange(0, 1.05, 0.05))\n",
        "plt.grid()  # 画出网格\n",
        "plt.savefig(result_dir_path + '/accuracy_curve1.png')"
      ]
    }
  ],
  "metadata": {
    "accelerator": "GPU",
    "colab": {
      "collapsed_sections": [],
      "provenance": []
    },
    "gpuClass": "standard",
    "kernelspec": {
      "display_name": "Python 3",
      "language": "python",
      "name": "python3"
    },
    "language_info": {
      "codemirror_mode": {
        "name": "ipython",
        "version": 3
      },
      "file_extension": ".py",
      "mimetype": "text/x-python",
      "name": "python",
      "nbconvert_exporter": "python",
      "pygments_lexer": "ipython3",
      "version": "3.9.16"
    },
    "vscode": {
      "interpreter": {
        "hash": "7e1998ff7f8aa20ada591c520b972326324e5ea05489af9e422744c7c09f6dad"
      }
    }
  },
  "nbformat": 4,
  "nbformat_minor": 0
}
