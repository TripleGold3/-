{
  "cells": [
    {
      "cell_type": "code",
      "execution_count": null,
      "metadata": {
        "colab": {
          "base_uri": "https://localhost:8080/"
        },
        "id": "-dG-e3kyzjsc",
        "outputId": "52dc0e14-d9f1-4435-e591-9701daa7f176"
      },
      "outputs": [],
      "source": [
        "!nvidia-smi"
      ]
    },
    {
      "cell_type": "code",
      "execution_count": null,
      "metadata": {
        "colab": {
          "base_uri": "https://localhost:8080/"
        },
        "id": "tBGM6vtvQnrt",
        "outputId": "a1283206-70e9-4955-e77c-dbb8c1b7ec99"
      },
      "outputs": [],
      "source": [
        "!ls\n",
        "!mkdir parm"
      ]
    },
    {
      "cell_type": "code",
      "execution_count": null,
      "metadata": {},
      "outputs": [],
      "source": []
    },
    {
      "cell_type": "code",
      "execution_count": null,
      "metadata": {
        "id": "SoP1gDjreL7Q"
      },
      "outputs": [],
      "source": [
        "import torch\n",
        "import torchvision\n",
        "import torchvision.transforms as transforms\n",
        "import os"
      ]
    },
    {
      "cell_type": "code",
      "execution_count": null,
      "metadata": {
        "colab": {
          "base_uri": "https://localhost:8080/"
        },
        "id": "rSmmdMDfkHGm",
        "outputId": "e1f9a6e7-3d66-48ed-d4f1-03d2b8a8d846"
      },
      "outputs": [],
      "source": [
        "device = torch.device('cuda:0' if torch.cuda.is_available() else 'cpu')\n",
        "# device = torch.device('cpu')\n",
        "# Assuming that we are on a CUDA machine, this should print a CUDA device:\n",
        "\n",
        "print(device)"
      ]
    },
    {
      "cell_type": "code",
      "execution_count": null,
      "metadata": {
        "id": "bo7-Bfv6f53r"
      },
      "outputs": [],
      "source": [
        "batch_size = 64\n",
        "LR = 0.01\n",
        "num_epochs = 80\n",
        "dropout = 0.5\n"
      ]
    },
    {
      "cell_type": "code",
      "execution_count": null,
      "metadata": {},
      "outputs": [],
      "source": [
        "import sys \n",
        "print(sys.path)\n",
        "sys.path.append(os.getcwd() + '\\\\..')\n",
        "print(sys.path)"
      ]
    },
    {
      "cell_type": "code",
      "execution_count": null,
      "metadata": {
        "colab": {
          "base_uri": "https://localhost:8080/"
        },
        "id": "qvK2e4SKrb_m",
        "outputId": "c8817bfd-f36c-4e84-88f5-e3b1147ed0c6"
      },
      "outputs": [],
      "source": [
        "from MyBatchNormalization1D_cuda import MyBatchNormalization1d_cuda\n",
        "# from MyBatchNormalization2D_CPP import MyBatchNormalization2d_CPP\n",
        "import torch.nn as nn\n",
        "class Net_use_MyBn_CPP(nn.Module):\n",
        "    def __init__(self):\n",
        "        super().__init__()\n",
        "        self.features = nn.Sequential(\n",
        "            #conv1 1/2\n",
        "            nn.Conv2d(in_channels=3    , out_channels=64   , kernel_size=3,  padding = 1),\n",
        "            # MyBatchNormalization2d_CPP(num_features=64),\n",
        "            nn.ReLU(inplace=True),\n",
        "            nn.MaxPool2d(kernel_size=2, stride=2),\n",
        "            \n",
        "            #conv2 1/4 \n",
        "            nn.Conv2d(in_channels=64   , out_channels=128, kernel_size=3,  padding = 1),\n",
        "            # MyBatchNormalization2d_CPP(num_features=128),\n",
        "            nn.ReLU(inplace=True),\n",
        "            nn.MaxPool2d(kernel_size=2, stride=2),\n",
        "\n",
        "            #conv3 1/8 \n",
        "            nn.Conv2d(in_channels=128, out_channels=256, kernel_size=3,  padding = 1),\n",
        "            # MyBatchNormalization2d_CPP(num_features=256),\n",
        "            nn.ReLU(inplace=True),\n",
        "            nn.MaxPool2d(kernel_size=2, stride=2),\n",
        "\n",
        "            #conv4 1/16 \n",
        "            nn.Conv2d(in_channels=256, out_channels=512, kernel_size=3,  padding = 1),\n",
        "            # MyBatchNormalization2d_CPP(num_features=512),\n",
        "            nn.ReLU(inplace=True),\n",
        "            nn.MaxPool2d(kernel_size=2, stride=2),\n",
        "            \n",
        "             #conv5 1/32 \n",
        "            nn.Conv2d(in_channels=512, out_channels=1024, kernel_size=3,  padding = 1),\n",
        "            # MyBatchNormalization2d_CPP(num_features=1024),\n",
        "            nn.ReLU(inplace=True),\n",
        "            nn.MaxPool2d(kernel_size=2, stride=2),    \n",
        "        )\n",
        "    \n",
        "        self.classifier = nn.Sequential(  # 定义自己的分类层\n",
        "            nn.Dropout(),\n",
        "            nn.Linear(in_features=1024, out_features=512), \n",
        "            MyBatchNormalization1d_cuda(512),\n",
        "            nn.ReLU(True),\n",
        "            nn.Linear(in_features=512, out_features=256),\n",
        "            MyBatchNormalization1d_cuda(256),\n",
        "            nn.ReLU(True),\n",
        "            nn.Dropout(),\n",
        "            nn.Linear(in_features=256, out_features=10),\n",
        "        )\n",
        "    \n",
        "\n",
        "    def forward(self, x):\n",
        "        x = self.features(x)\n",
        "        x = x.view(x.size(0), -1)\n",
        "        x = self.classifier(x)\n",
        "\n",
        "        return x\n",
        "\n",
        "net3 = Net_use_MyBn_CPP()\n",
        "net3.to(device)"
      ]
    },
    {
      "cell_type": "code",
      "execution_count": null,
      "metadata": {
        "colab": {
          "base_uri": "https://localhost:8080/"
        },
        "id": "HCKYXwEks349",
        "outputId": "7d405dea-af0f-4704-e2dd-6dc847d6fe75"
      },
      "outputs": [],
      "source": [
        "import torch.optim as optim\n",
        "import torch.nn as nn\n",
        "import time\n",
        "from torchvision import datasets, transforms\n",
        "from torch.utils.data import DataLoader\n",
        "\n",
        "def train_and_valid_MyBN(model, loss_function, optimizer, epochs):\n",
        "    model.to(device)\n",
        "    history = []\n",
        "    best_acc = 0.0\n",
        "    best_epoch = 0\n",
        "\n",
        "    for epoch in range(epochs):\n",
        "        epoch_start = time.time()\n",
        "        print(\"Epoch: {}/{}\".format(epoch + 1, epochs))\n",
        "\n",
        "        model.train()\n",
        "\n",
        "        train_loss = 0.0\n",
        "        train_acc = 0.0\n",
        "        valid_loss = 0.0\n",
        "        valid_acc = 0.0\n",
        "\n",
        "        for i, (inputs, labels) in enumerate(train_data):\n",
        "            inputs = inputs.to(device)\n",
        "            labels = labels.to(device)\n",
        "\n",
        "            # 因为这里梯度是累加的，所以每次记得清零\n",
        "            optimizer.zero_grad()\n",
        "\n",
        "            outputs = model(inputs)\n",
        "\n",
        "            loss = loss_function(outputs, labels)\n",
        "\n",
        "            loss.backward(retain_graph=True)\n",
        "\n",
        "            optimizer.step()\n",
        "\n",
        "            train_loss += loss.item() * inputs.size(0)\n",
        "\n",
        "            ret, predictions = torch.max(outputs.data, 1)\n",
        "            correct_counts = predictions.eq(labels.data.view_as(predictions))\n",
        "\n",
        "            acc = torch.mean(correct_counts.type(torch.FloatTensor))\n",
        "\n",
        "            train_acc += acc.item() * inputs.size(0)\n",
        "\n",
        "        with torch.no_grad():\n",
        "            model.eval()\n",
        "\n",
        "            for j, (inputs, labels) in enumerate(valid_data):\n",
        "                inputs = inputs.to(device)\n",
        "                labels = labels.to(device)\n",
        "\n",
        "                outputs = model(inputs)\n",
        "\n",
        "                loss = loss_function(outputs, labels)\n",
        "\n",
        "                valid_loss += loss.item() * inputs.size(0)\n",
        "\n",
        "                ret, predictions = torch.max(outputs.data, 1)\n",
        "                correct_counts = predictions.eq(labels.data.view_as(predictions))\n",
        "\n",
        "                acc = torch.mean(correct_counts.type(torch.FloatTensor))\n",
        "\n",
        "                valid_acc += acc.item() * inputs.size(0)\n",
        "      \n",
        "\n",
        "        avg_train_loss = train_loss / train_data_size\n",
        "        avg_train_acc = train_acc / train_data_size\n",
        "\n",
        "        avg_valid_loss = valid_loss / valid_data_size\n",
        "        avg_valid_acc = valid_acc / valid_data_size\n",
        "\n",
        "        history.append([avg_train_loss, avg_valid_loss, avg_train_acc, avg_valid_acc])\n",
        "\n",
        "        if best_acc < avg_valid_acc:\n",
        "            best_acc = avg_valid_acc\n",
        "            best_epoch = epoch + 1\n",
        "\n",
        "        epoch_end = time.time()\n",
        "\n",
        "        print(\n",
        "            \"\\t Training: Loss: {:.4f}, Accuracy: {:.4f}%, \"\n",
        "            \"\\n\\t Validation: Loss: {:.4f}, Accuracy: {:.4f}%, Time: {:.3f}s\".format(\n",
        "                avg_train_loss, avg_train_acc * 100, avg_valid_loss, avg_valid_acc * 100,\n",
        "                                epoch_end - epoch_start\n",
        "            ))\n",
        "        print(\"\\t Best Accuracy for validation : {:.4f} at epoch {:03d}\".format(best_acc, best_epoch))\n",
        "        \n",
        "        dir_path = os.path.join(os.getcwd(), ('parm/torchBN_batchsize_' + str(batch_size) + '_LR_' + str(LR) ) )\n",
        "        if not os.path.exists(dir_path):\n",
        "            os.mkdir(dir_path)\n",
        "        model_path = dir_path + '/%02d' % (epoch + 1) + '.pt'\n",
        "        torch.save(model, model_path)  # 保存模型\n",
        "    \n",
        "    print('Finished Training')\n",
        "\n",
        "    return model, history\n",
        "\n",
        "loss_func = nn.CrossEntropyLoss()\n",
        "optimizer = optim.SGD(net3.parameters(), lr= LR, momentum=0.9)\n",
        "\n",
        "\n",
        "all_start = time.time()\n",
        "\n",
        "norm_mean = [0.485, 0.456, 0.406]  # 均值\n",
        "norm_std = [0.229, 0.224, 0.225]  # 方差\n",
        "transform_train = transforms.Compose([transforms.ToTensor(),  # 将PILImage转换为张量\n",
        "                                      # 将[0,1]归一化到[-1,1]\n",
        "                                      transforms.Normalize(norm_mean, norm_std),\n",
        "                                      transforms.RandomHorizontalFlip(),  # 随机水平镜像\n",
        "                                      transforms.RandomErasing(scale=(0.04, 0.2), ratio=(0.5, 2)),  # 随机遮挡\n",
        "                                      transforms.RandomCrop(32, padding=4)  # 随机中心裁剪\n",
        "                                      ])\n",
        "\n",
        "transform_test = transforms.Compose([transforms.ToTensor(),\n",
        "                                     transforms.Normalize(norm_mean, norm_std)])\n",
        "  # \n",
        "\n",
        "# 选择数据集:\n",
        "trainset = datasets.CIFAR10(root='./data', train=True, download=True, transform=transform_train)\n",
        "testset = datasets.CIFAR10(root='./data', train=False, download=True, transform=transform_test)\n",
        "# 加载数据:\n",
        "train_data = DataLoader(dataset=trainset, batch_size=batch_size, shuffle=True)\n",
        "valid_data = DataLoader(dataset=testset, batch_size=batch_size, shuffle=False)\n",
        "cifar10_classes = ('plane', 'car', 'bird', 'cat', 'deer', 'dog', 'frog', 'horse', 'ship', 'truck')\n",
        "\n",
        "train_data_size = len(trainset)\n",
        "valid_data_size = len(testset)\n",
        "print(train_data_size, valid_data_size)\n",
        "\n",
        "print(\"MyBN:\")\n",
        "print('Batch_Size = ' + str(batch_size) + ', Learning_Rate = ' + str(LR) + ', Train_Epochs = ' + str(num_epochs))\n",
        "net3.to(device)\n",
        "\n",
        "net3, history = train_and_valid_MyBN(model=net3, loss_function=loss_func, optimizer=optimizer, epochs=num_epochs )"
      ]
    },
    {
      "cell_type": "code",
      "execution_count": null,
      "metadata": {
        "colab": {
          "base_uri": "https://localhost:8080/",
          "height": 1000
        },
        "id": "JRA5n8kB5SwQ",
        "outputId": "c87e18ec-d0e4-40ee-f499-5baa2577a974"
      },
      "outputs": [],
      "source": [
        "import numpy as np\n",
        "import matplotlib.pyplot as plt \n",
        "import os, sys\n",
        "result_dir_path = os.path.join(os.getcwd(), ('result/torchBN_MyBN_batchsize_' + str(batch_size) + '_LR_' + str(LR) ) )\n",
        "if not os.path.exists(result_dir_path):\n",
        "    os.mkdir(result_dir_path)\n",
        "history = np.array(history)\n",
        "# Loss曲线\n",
        "plt.figure(figsize=(10, 10))\n",
        "plt.plot(history[:, 0:2])\n",
        "plt.legend(['Tr Loss', 'Val Loss'])\n",
        "plt.xlabel('Epoch Number')\n",
        "plt.ylabel('Loss')\n",
        "# 设置坐标轴刻度\n",
        "plt.xticks(np.arange(0, num_epochs + 1, step=10))\n",
        "plt.yticks(np.arange(0, 2.05, 0.1))\n",
        "plt.grid()  # 画出网格\n",
        "plt.savefig(result_dir_path + '/loss_curve1.png')\n",
        "\n",
        "# 精度曲线\n",
        "plt.figure(figsize=(10, 10))\n",
        "plt.plot(history[:, 2:4])\n",
        "plt.legend(['Train Accuracy', 'Val Accuracy'])\n",
        "plt.xlabel('Epoch Number')\n",
        "plt.ylabel('Accuracy')\n",
        "# 设置坐标轴刻度\n",
        "plt.xticks(np.arange(0, num_epochs + 1, step=10))\n",
        "plt.yticks(np.arange(0, 1.05, 0.05))\n",
        "plt.grid()  # 画出网格\n",
        "plt.savefig(result_dir_path + '/accuracy_curve1.png')"
      ]
    }
  ],
  "metadata": {
    "accelerator": "GPU",
    "colab": {
      "collapsed_sections": [],
      "provenance": []
    },
    "gpuClass": "standard",
    "kernelspec": {
      "display_name": "Python 3",
      "language": "python",
      "name": "python3"
    },
    "language_info": {
      "codemirror_mode": {
        "name": "ipython",
        "version": 3
      },
      "file_extension": ".py",
      "mimetype": "text/x-python",
      "name": "python",
      "nbconvert_exporter": "python",
      "pygments_lexer": "ipython3",
      "version": "3.9.16"
    },
    "vscode": {
      "interpreter": {
        "hash": "7e1998ff7f8aa20ada591c520b972326324e5ea05489af9e422744c7c09f6dad"
      }
    }
  },
  "nbformat": 4,
  "nbformat_minor": 0
}
