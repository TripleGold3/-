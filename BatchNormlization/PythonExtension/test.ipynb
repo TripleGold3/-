{
 "cells": [
  {
   "cell_type": "code",
   "execution_count": 1,
   "metadata": {},
   "outputs": [],
   "source": [
    "import torch\n",
    "from torch.autograd import Function\n",
    "import torch.nn.modules as nn\n",
    "import torch.nn.parameter \n",
    "from MyBatchNormalization1D import MyBatchNormalization1d\n",
    "from MyBatchNormalization1D import MyBatchNormalization1dFunction\n"
   ]
  },
  {
   "cell_type": "code",
   "execution_count": 2,
   "metadata": {},
   "outputs": [],
   "source": [
    "class MyNet(nn.Module):\n",
    "    def __init__(self):\n",
    "        super(MyNet, self).__init__()\n",
    "        self.bn = MyBatchNormalization1d(3)\n",
    "        self.f1 = nn.Linear(3, 1)\n",
    "    def forward(self, X):\n",
    "        output = self.bn(X)\n",
    "        output = self.f1(output)\n",
    "        return output"
   ]
  },
  {
   "cell_type": "code",
   "execution_count": 3,
   "metadata": {},
   "outputs": [
    {
     "name": "stdout",
     "output_type": "stream",
     "text": [
      "tensor([[-0.1270],\n",
      "        [ 0.8333],\n",
      "        [ 0.3608],\n",
      "        [-0.5128],\n",
      "        [ 0.0206]], grad_fn=<AddmmBackward0>)\n",
      "tensor(0.8734, grad_fn=<MseLossBackward0>)\n"
     ]
    }
   ],
   "source": [
    "import torch\n",
    "import torch.nn.modules as nn\n",
    "from torch.nn import MSELoss as MSELoss\n",
    "# device = torch.device(\"cuda:0\" if torch.cuda.is_available() else \"cpu\")\n",
    "device = torch.device(\"cpu\")\n",
    "A = torch.randn(5, 3, dtype=torch.float32, device=device)\n",
    "\n",
    "# 初始化模型并将其移动到 GPU 上\n",
    "Mynet = MyNet()\n",
    "Mynet.to(device)\n",
    "# for name, param in Mynet.named_parameters():\n",
    "#     if param.requires_grad:\n",
    "#         param.data = param.data.cuda()\n",
    "# for name, buffer in Mynet.named_buffers():\n",
    "#     buffer.data = buffer.data.cuda()\n",
    "\n",
    "output = (Mynet(A)).to(device)\n",
    "print(output)\n",
    "label = torch.tensor([[0,0, 1, 1, 1]], dtype=torch.float32, device=device)\n",
    "label = label.T\n",
    "\n",
    "lossfunction = MSELoss()\n",
    "loss = lossfunction(output, label)\n",
    "print(loss)\n",
    "loss.backward()\n",
    "\n",
    "\n",
    "\n",
    "\n"
   ]
  },
  {
   "cell_type": "code",
   "execution_count": null,
   "metadata": {},
   "outputs": [],
   "source": []
  },
  {
   "cell_type": "code",
   "execution_count": null,
   "metadata": {},
   "outputs": [],
   "source": []
  }
 ],
 "metadata": {
  "kernelspec": {
   "display_name": "unidl",
   "language": "python",
   "name": "python3"
  },
  "language_info": {
   "codemirror_mode": {
    "name": "ipython",
    "version": 3
   },
   "file_extension": ".py",
   "mimetype": "text/x-python",
   "name": "python",
   "nbconvert_exporter": "python",
   "pygments_lexer": "ipython3",
   "version": "3.9.16"
  },
  "orig_nbformat": 4
 },
 "nbformat": 4,
 "nbformat_minor": 2
}
